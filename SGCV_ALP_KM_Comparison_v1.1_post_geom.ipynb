{
 "cells": [
  {
   "cell_type": "markdown",
   "id": "9382125a",
   "metadata": {},
   "source": [
    "# SGCV / ALP / KM Comparison – Updated Notebook v1.1\n",
    "\n",
    "This updated version includes:\n",
    "- Auto-visualization of layered detector geometry (`visualize_geometry.py`)\n",
    "- New GDML detector file (`detector_geometry_v2.gdml`)\n",
    "- Integrated test data + example usage for:\n",
    "  - `event_generator.py`\n",
    "  - `plot_utils.py`\n",
    "  - All simulation scripts (SGCV, ALP, KM)\n",
    "- Toggle geometry view in notebook\n",
    "- Colab-ready structure for execution and visualization\n",
    "\n",
    "> Version: **v1.1**, Generated: `2025-05-07T22:44:29.109644`\n"
   ]
  },
  {
   "cell_type": "code",
   "execution_count": null,
   "id": "663f5953",
   "metadata": {},
   "outputs": [],
   "source": [
    "# Install required packages\n",
    "!pip install numpy matplotlib scipy ipywidgets\n"
   ]
  },
  {
   "cell_type": "code",
   "execution_count": null,
   "id": "8171cd50",
   "metadata": {},
   "outputs": [],
   "source": [
    "# Import custom modules\n",
    "from event_generator import generate_events\n",
    "from sgcv_simulation import run_sgcv_simulation\n",
    "from alp_simulation import run_alp_simulation\n",
    "from km_simulation import run_km_simulation\n",
    "from plot_utils import plot_delta_t_vs_x, compare_histograms\n",
    "from visualize_geometry import render_gdml_geometry\n"
   ]
  },
  {
   "cell_type": "code",
   "execution_count": null,
   "id": "07b76e16",
   "metadata": {},
   "outputs": [],
   "source": [
    "# Generate test event data\n",
    "events = generate_events(model='SGCV', num_events=1000)\n",
    "print(\"Generated events:\", events[:2])\n"
   ]
  },
  {
   "cell_type": "code",
   "execution_count": null,
   "id": "3ddc29fa",
   "metadata": {},
   "outputs": [],
   "source": [
    "# Run SGCV, ALP, KM simulations with test data\n",
    "sgcv_results = run_sgcv_simulation(events)\n",
    "alp_results = run_alp_simulation(events)\n",
    "km_results = run_km_simulation(events)\n"
   ]
  },
  {
   "cell_type": "code",
   "execution_count": null,
   "id": "76757459",
   "metadata": {},
   "outputs": [],
   "source": [
    "# Plot Δx vs Δt for all three models\n",
    "plot_delta_t_vs_x(sgcv_results, label=\"SGCV\")\n",
    "plot_delta_t_vs_x(alp_results, label=\"ALP\")\n",
    "plot_delta_t_vs_x(km_results, label=\"KM\")\n"
   ]
  },
  {
   "cell_type": "code",
   "execution_count": null,
   "id": "48e78954",
   "metadata": {},
   "outputs": [],
   "source": [
    "# Comparative histogram of Δt distributions\n",
    "compare_histograms([sgcv_results, alp_results, km_results], labels=[\"SGCV\", \"ALP\", \"KM\"])\n"
   ]
  },
  {
   "cell_type": "code",
   "execution_count": null,
   "id": "ab97f291",
   "metadata": {},
   "outputs": [],
   "source": [
    "# Visualize layered detector geometry (v2)\n",
    "render_gdml_geometry(\"detector_geometry_v2.gdml\")\n"
   ]
  }
 ],
 "metadata": {},
 "nbformat": 4,
 "nbformat_minor": 5
}
